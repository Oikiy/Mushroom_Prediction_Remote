{
 "cells": [
  {
   "cell_type": "code",
   "execution_count": 1,
   "metadata": {},
   "outputs": [],
   "source": [
    "## Import libaries\n",
    "import os\n",
    "\n",
    "## Data analysis and wrangling\n",
    "import numpy as np\n",
    "import pandas as pd\n",
    "import random as rnd\n",
    "\n",
    "## Data Visualization\n",
    "import matplotlib.pyplot as plt\n",
    "import seaborn as sns\n",
    "from sklearn import set_config\n",
    "from ydata_profiling import ProfileReport\n",
    "%matplotlib inline \n",
    "from scipy.stats import boxcox\n",
    "\n",
    "# Metrics\n",
    "from sklearn.metrics import make_scorer\n",
    "from sklearn.metrics import matthews_corrcoef\n",
    "\n",
    "\n",
    "# Machine learning_ Classification\n",
    "from sklearn.linear_model import LogisticRegression\n",
    "from sklearn.ensemble import RandomForestClassifier, GradientBoostingClassifier, AdaBoostClassifier, ExtraTreesClassifier\n",
    "from sklearn.tree import DecisionTreeClassifier\n",
    "from sklearn.svm import SVC, LinearSVC\n",
    "from xgboost import XGBClassifier\n",
    "from catboost import CatBoostClassifier\n",
    "from sklearn.neural_network import MLPClassifier\n",
    "from sklearn.dummy import DummyClassifier\n",
    "\n",
    "# # Model selection\n",
    "from sklearn.model_selection import cross_val_score, cross_val_predict\n",
    "from sklearn.model_selection import KFold, StratifiedKFold, train_test_split\n",
    "from sklearn.model_selection import GridSearchCV, RandomizedSearchCV\n",
    "\n",
    "\n",
    "#Palette\n",
    "palette = ['#328ca9', '#0e6ea9', '#2c4ea3', '#193882', '#102446']\n",
    "\n",
    "# Set the style of the visualization\n",
    "sns.set(style=\"whitegrid\")\n",
    "\n",
    "# Set the configuration of sklearn\n",
    "SEED = 42 # for reproducibility"
   ]
  },
  {
   "cell_type": "markdown",
   "metadata": {},
   "source": [
    "## 5. Feature Preprocessing\n",
    "\n",
    "Next, we preprocess the data by further imputing the missing values, one hot encoding the options in every features and label encoding the target"
   ]
  },
  {
   "cell_type": "code",
   "execution_count": 2,
   "metadata": {},
   "outputs": [
    {
     "name": "stderr",
     "output_type": "stream",
     "text": [
      "c:\\Users\\Kai Qi Yan\\anaconda3\\envs\\MLEnv\\Lib\\site-packages\\sklearn\\preprocessing\\_label.py:114: DataConversionWarning: A column-vector y was passed when a 1d array was expected. Please change the shape of y to (n_samples, ), for example using ravel().\n",
      "  y = column_or_1d(y, warn=True)\n"
     ]
    }
   ],
   "source": [
    "# Read the data\n",
    "# Specify the data types for columns with mixed types\n",
    "dtype_spec = {\n",
    "    'cap-diameter': 'float16',\n",
    "    'stem-height': 'float16',\n",
    "    'stem-width': 'float16',\n",
    "    'does-bruise-or-bleed':'category',\n",
    "    'has-ring':'category'\n",
    "}\n",
    "\n",
    "train_df = pd.read_csv(r'Output\\\\Cleaned_Data\\\\train_cleaned.csv',dtype=dtype_spec)\n",
    "test_df = pd.read_csv(r'Output\\\\Cleaned_Data\\\\test_cleaned.csv',dtype=dtype_spec)\n",
    "y = pd.read_csv(r'Output\\\\Cleaned_Data\\\\target.csv',dtype='category')\n",
    "\n",
    "\n",
    "# visualizing pipeline\n",
    "set_config(display='diagram')\n",
    "\n",
    "from utils import PreprocessData\n",
    "from sklearn.preprocessing import LabelEncoder\n",
    "\n",
    "# Preprocess the data\n",
    "X_prep, preprocessor = PreprocessData(train_df)\n",
    "X_test_prep, preprocessor_test = PreprocessData(test_df)\n",
    "# Encode the target variable\n",
    "le = LabelEncoder()\n",
    "y_prep = le.fit_transform(y).ravel()  \n",
    "\n"
   ]
  },
  {
   "cell_type": "code",
   "execution_count": 3,
   "metadata": {},
   "outputs": [
    {
     "data": {
      "text/plain": [
       "['Output\\\\\\\\Models\\\\\\\\label_encoder.pkl']"
      ]
     },
     "execution_count": 3,
     "metadata": {},
     "output_type": "execute_result"
    }
   ],
   "source": [
    "# Save the preprocessor\n",
    "import joblib\n",
    "\n",
    "joblib.dump(preprocessor, r'Output\\\\Models\\\\preprocessor.pkl')\n",
    "joblib.dump(preprocessor_test, r'Output\\\\Models\\\\preprocessor_test.pkl')\n",
    "joblib.dump(le, r'Output\\\\Models\\\\label_encoder.pkl')\n"
   ]
  }
 ],
 "metadata": {
  "kernelspec": {
   "display_name": "MLEnv",
   "language": "python",
   "name": "python3"
  },
  "language_info": {
   "codemirror_mode": {
    "name": "ipython",
    "version": 3
   },
   "file_extension": ".py",
   "mimetype": "text/x-python",
   "name": "python",
   "nbconvert_exporter": "python",
   "pygments_lexer": "ipython3",
   "version": "3.11.9"
  }
 },
 "nbformat": 4,
 "nbformat_minor": 2
}
